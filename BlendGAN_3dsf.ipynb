{
  "nbformat": 4,
  "nbformat_minor": 0,
  "metadata": {
    "colab": {
      "name": "BlendGAN.3dsf.ipynb",
      "provenance": [],
      "collapsed_sections": [],
      "toc_visible": true,
      "authorship_tag": "ABX9TyOWsuqQ5NdwVbHxmiIWr6zD",
      "include_colab_link": true
    },
    "kernelspec": {
      "name": "python3",
      "display_name": "Python 3"
    },
    "language_info": {
      "name": "python"
    },
    "accelerator": "GPU"
  },
  "cells": [
    {
      "cell_type": "markdown",
      "metadata": {
        "id": "view-in-github",
        "colab_type": "text"
      },
      "source": [
        "<a href=\"https://colab.research.google.com/github/3dsf/BlendGAN/blob/main/BlendGAN_3dsf.ipynb\" target=\"_parent\"><img src=\"https://colab.research.google.com/assets/colab-badge.svg\" alt=\"Open In Colab\"/></a>"
      ]
    },
    {
      "cell_type": "markdown",
      "metadata": {
        "id": "xmX1cySyryqx"
      },
      "source": [
        "#BlendGAN \n",
        "Runs examples from \n",
        "https://github.com/onion-liu/BlendGAN\n",
        "\n",
        "*colab notebook adaptation by u/3dsf*\n",
        "\n",
        "## Use GPU Runtime"
      ]
    },
    {
      "cell_type": "code",
      "metadata": {
        "colab": {
          "base_uri": "https://localhost:8080/"
        },
        "id": "E_aLR2br75Gr",
        "outputId": "17135758-efa9-4e38-abe0-2821018f7246"
      },
      "source": [
        "import torch\n",
        "if torch.cuda.is_available() :\n",
        "  print('CUDA device: ',torch.cuda.get_device_name(0))\n",
        "else :\n",
        "  print(\"Please enable GPU runtime\")\n",
        "  raise SystemExit(\"EXECUTION stopped because NOt using GPU\")"
      ],
      "execution_count": 17,
      "outputs": [
        {
          "output_type": "stream",
          "name": "stdout",
          "text": [
            "CUDA device:  Tesla K80\n"
          ]
        }
      ]
    },
    {
      "cell_type": "markdown",
      "metadata": {
        "id": "0MAhdJcnryIB"
      },
      "source": [
        "## Install & Setup"
      ]
    },
    {
      "cell_type": "code",
      "metadata": {
        "colab": {
          "base_uri": "https://localhost:8080/"
        },
        "id": "rgIbNeFJIU4n",
        "outputId": "aaca1755-89c5-43ea-88eb-956ef8b8f45e"
      },
      "source": [
        "!git clone https://github.com/onion-liu/BlendGAN.git\n",
        "!pip install gdown ninja\n",
        "\n",
        "import os\n",
        "from google.colab import files\n",
        "pathBG = '/content/BlendGAN/'"
      ],
      "execution_count": 1,
      "outputs": [
        {
          "output_type": "stream",
          "name": "stdout",
          "text": [
            "Cloning into 'BlendGAN'...\n",
            "remote: Enumerating objects: 102, done.\u001b[K\n",
            "remote: Counting objects: 100% (102/102), done.\u001b[K\n",
            "remote: Compressing objects: 100% (91/91), done.\u001b[K\n",
            "remote: Total 102 (delta 13), reused 97 (delta 8), pack-reused 0\u001b[K\n",
            "Receiving objects: 100% (102/102), 51.13 MiB | 28.55 MiB/s, done.\n",
            "Resolving deltas: 100% (13/13), done.\n",
            "Requirement already satisfied: gdown in /usr/local/lib/python3.7/dist-packages (3.6.4)\n",
            "Collecting ninja\n",
            "  Downloading ninja-1.10.2.2-py2.py3-none-manylinux_2_5_x86_64.manylinux1_x86_64.whl (108 kB)\n",
            "\u001b[K     |████████████████████████████████| 108 kB 5.0 MB/s \n",
            "\u001b[?25hRequirement already satisfied: six in /usr/local/lib/python3.7/dist-packages (from gdown) (1.15.0)\n",
            "Requirement already satisfied: requests in /usr/local/lib/python3.7/dist-packages (from gdown) (2.23.0)\n",
            "Requirement already satisfied: tqdm in /usr/local/lib/python3.7/dist-packages (from gdown) (4.62.3)\n",
            "Requirement already satisfied: chardet<4,>=3.0.2 in /usr/local/lib/python3.7/dist-packages (from requests->gdown) (3.0.4)\n",
            "Requirement already satisfied: idna<3,>=2.5 in /usr/local/lib/python3.7/dist-packages (from requests->gdown) (2.10)\n",
            "Requirement already satisfied: urllib3!=1.25.0,!=1.25.1,<1.26,>=1.21.1 in /usr/local/lib/python3.7/dist-packages (from requests->gdown) (1.24.3)\n",
            "Requirement already satisfied: certifi>=2017.4.17 in /usr/local/lib/python3.7/dist-packages (from requests->gdown) (2021.10.8)\n",
            "Installing collected packages: ninja\n",
            "Successfully installed ninja-1.10.2.2\n"
          ]
        }
      ]
    },
    {
      "cell_type": "code",
      "metadata": {
        "colab": {
          "base_uri": "https://localhost:8080/"
        },
        "id": "7M2uZEjbIs0I",
        "outputId": "cd18d55d-d99f-4463-eb68-9b2b11455c3f"
      },
      "source": [
        "cpBlendGAN = os.path.join(pathBG, 'pretrained_models/blendgan.pt')\n",
        "cpPSP      = os.path.join(pathBG, 'pretrained_models/psp_encoder.pt')\n",
        "cpStyle    = os.path.join(pathBG, 'pretrained_models/style_encoder.pt')\n",
        "\n",
        "if os.path.exists(cpBlendGAN) == False :\n",
        "  !gdown --id 1eF04jKMLAb9DvzI72m8Akn5ykWf3EafE -O $cpBlendGAN\n",
        "if os.path.exists(cpPSP) == False : \n",
        "  !gdown --id 14nevG94hNkkwaoK5eJLF1iv78cv5O8fN -O $cpPSP\n",
        "if os.path.exists(cpStyle) == False :\n",
        "  !gdown --id 1EaM0ZYsAMdPkbRz0smLNIlJ1rxVAhbEz -O $cpStyle"
      ],
      "execution_count": 2,
      "outputs": [
        {
          "output_type": "stream",
          "name": "stdout",
          "text": [
            "Downloading...\n",
            "From: https://drive.google.com/uc?id=1eF04jKMLAb9DvzI72m8Akn5ykWf3EafE\n",
            "To: /content/BlendGAN/pretrained_models/blendgan.pt\n",
            "100% 3.28G/3.28G [00:45<00:00, 71.6MB/s]\n",
            "Downloading...\n",
            "From: https://drive.google.com/uc?id=14nevG94hNkkwaoK5eJLF1iv78cv5O8fN\n",
            "To: /content/BlendGAN/pretrained_models/psp_encoder.pt\n",
            "100% 1.07G/1.07G [00:22<00:00, 47.8MB/s]\n",
            "Downloading...\n",
            "From: https://drive.google.com/uc?id=1EaM0ZYsAMdPkbRz0smLNIlJ1rxVAhbEz\n",
            "To: /content/BlendGAN/pretrained_models/style_encoder.pt\n",
            "100% 1.33G/1.33G [00:26<00:00, 50.4MB/s]\n"
          ]
        }
      ]
    },
    {
      "cell_type": "markdown",
      "metadata": {
        "id": "Xbt0-N5GKzpm"
      },
      "source": [
        "# Generate image pairs with random face codes\n",
        "* First run will download vgg19 and will take longer\n",
        "\n"
      ]
    },
    {
      "cell_type": "markdown",
      "metadata": {
        "id": "1L05sIf1t1Ui"
      },
      "source": [
        "## latent-guided generation\n",
        "* *uses ./test_imgs/face_imgs and ./test_imgs/style_imgs (coded into generate_image_pairs.py)*"
      ]
    },
    {
      "cell_type": "code",
      "metadata": {
        "colab": {
          "base_uri": "https://localhost:8080/",
          "height": 303
        },
        "id": "m12i0hBAKtWw",
        "outputId": "fd90e2ac-7bd9-424b-bb1e-8c3629edbd10"
      },
      "source": [
        "N_PICS = 8\n",
        "\n",
        "###\n",
        "\n",
        "os.chdir(pathBG)\n",
        "pathOutputLatentGuided = os.path.join(pathBG, 'results/generated_pairs/latent_guided/')\n",
        "!python generate_image_pairs.py --size 1024 --pics $N_PICS --ckpt $cpBlendGAN --outdir $pathOutputLatentGuided\n",
        "\n",
        "os.chdir(pathOutputLatentGuided)\n",
        "tarOutLG = os.path.join(pathBG, 'latentGuided.tar.gz')\n",
        "!tar -czvf $tarOutLG *\n",
        "files.download(tarOutLG)\n",
        "\n"
      ],
      "execution_count": 8,
      "outputs": [
        {
          "output_type": "stream",
          "name": "stdout",
          "text": [
            "tcmalloc: large alloc 1249902592 bytes == 0x55d4b3412000 @  0x7f3612403b6b 0x7f3612423379 0x7f34fad0fcde 0x7f34fad11452 0x7f354d783749 0x7f35f65acd59 0x55d4a7aa9045 0x55d4a7a69c52 0x55d4a7adcc25 0x55d4a7ad7ced 0x55d4a7a6a7f3 0x55d4a7a6a2f9 0x55d4a7bb135d 0x55d4a7b20a0b 0x55d4a7a693a1 0x55d4a7b5ae1d 0x55d4a7adce99 0x55d4a7ad7ced 0x55d4a79a9e2b 0x55d4a7ad9fe4 0x55d4a7ad79ee 0x55d4a7a6abda 0x55d4a7adcd00 0x55d4a7ad79ee 0x55d4a7ad76f3 0x55d4a7ba14c2 0x55d4a7ba183d 0x55d4a7ba16e6 0x55d4a7b79163 0x55d4a7b78e0c 0x7f361120bbf7\n",
            "tcmalloc: large alloc 1249902592 bytes == 0x55d51ef2a000 @  0x7f3612403b6b 0x7f3612423379 0x7f34fad0fcde 0x7f34fad11452 0x7f354d783749 0x7f35f65acd59 0x55d4a7aa9045 0x55d4a7a69c52 0x55d4a7adcc25 0x55d4a7ad7ced 0x55d4a7a6a7f3 0x55d4a7a6a2f9 0x55d4a7bb135d 0x55d4a7b20a0b 0x55d4a7a693a1 0x55d4a7b5ae1d 0x55d4a7adce99 0x55d4a7ad7ced 0x55d4a79a9e2b 0x55d4a7ad9fe4 0x55d4a7ad79ee 0x55d4a7a6abda 0x55d4a7adcd00 0x55d4a7ad79ee 0x55d4a7ad76f3 0x55d4a7ba14c2 0x55d4a7ba183d 0x55d4a7ba16e6 0x55d4a7b79163 0x55d4a7b78e0c 0x7f361120bbf7\n",
            "ckpt:  /content/BlendGAN/pretrained_models/blendgan.pt\n",
            "truncation:  0.75\n",
            "### generate mean_latent with 'g_ema.mean_latent'\n",
            "100% 8/8 [00:03<00:00,  2.38it/s]\n",
            "Done!\n",
            "000000.jpg\n",
            "000001.jpg\n",
            "000002.jpg\n",
            "000003.jpg\n",
            "000004.jpg\n",
            "000005.jpg\n",
            "000006.jpg\n",
            "000007.jpg\n"
          ]
        },
        {
          "output_type": "display_data",
          "data": {
            "application/javascript": [
              "\n",
              "    async function download(id, filename, size) {\n",
              "      if (!google.colab.kernel.accessAllowed) {\n",
              "        return;\n",
              "      }\n",
              "      const div = document.createElement('div');\n",
              "      const label = document.createElement('label');\n",
              "      label.textContent = `Downloading \"${filename}\": `;\n",
              "      div.appendChild(label);\n",
              "      const progress = document.createElement('progress');\n",
              "      progress.max = size;\n",
              "      div.appendChild(progress);\n",
              "      document.body.appendChild(div);\n",
              "\n",
              "      const buffers = [];\n",
              "      let downloaded = 0;\n",
              "\n",
              "      const channel = await google.colab.kernel.comms.open(id);\n",
              "      // Send a message to notify the kernel that we're ready.\n",
              "      channel.send({})\n",
              "\n",
              "      for await (const message of channel.messages) {\n",
              "        // Send a message to notify the kernel that we're ready.\n",
              "        channel.send({})\n",
              "        if (message.buffers) {\n",
              "          for (const buffer of message.buffers) {\n",
              "            buffers.push(buffer);\n",
              "            downloaded += buffer.byteLength;\n",
              "            progress.value = downloaded;\n",
              "          }\n",
              "        }\n",
              "      }\n",
              "      const blob = new Blob(buffers, {type: 'application/binary'});\n",
              "      const a = document.createElement('a');\n",
              "      a.href = window.URL.createObjectURL(blob);\n",
              "      a.download = filename;\n",
              "      div.appendChild(a);\n",
              "      a.click();\n",
              "      div.remove();\n",
              "    }\n",
              "  "
            ],
            "text/plain": [
              "<IPython.core.display.Javascript object>"
            ]
          },
          "metadata": {}
        },
        {
          "output_type": "display_data",
          "data": {
            "application/javascript": [
              "download(\"download_471aac53-a14e-4c74-b342-05adcd4e0e3d\", \"latentGuided.tar.gz\", 3635529)"
            ],
            "text/plain": [
              "<IPython.core.display.Javascript object>"
            ]
          },
          "metadata": {}
        }
      ]
    },
    {
      "cell_type": "markdown",
      "metadata": {
        "id": "1RrFcfaUrjGx"
      },
      "source": [
        "## reference-guided generation\n",
        "\n",
        "* *uses ./test_imgs/face_imgs  (coded into generate_image_pairs.py)*"
      ]
    },
    {
      "cell_type": "code",
      "metadata": {
        "colab": {
          "base_uri": "https://localhost:8080/",
          "height": 250
        },
        "id": "zlfvKX4-UkpR",
        "outputId": "38ec8ed7-b107-47f0-be2f-cb768bed7399"
      },
      "source": [
        "N_PICS = 8\n",
        "refStyleImage = os.path.join(pathBG, 'test_imgs/style_imgs/100036.png')\n",
        "\n",
        "###\n",
        "\n",
        "os.chdir(pathBG)\n",
        "pathOutputReferenceGuided = os.path.join(pathBG, '/results/generated_pairs/reference_guided/')\n",
        "!python generate_image_pairs.py --size 1024 --pics $N_PICS --ckpt $cpBlendGAN --style_img $refStyleImage --outdir $pathOutputReferenceGuided\n",
        "\n",
        "os.chdir(pathOutputReferenceGuided)\n",
        "tarOutRG = os.path.join(pathBG, 'referenceGuided.tar.gz')\n",
        "!tar -czvf $tarOutRG *\n",
        "files.download(tarOutRG)\n",
        "\n"
      ],
      "execution_count": 4,
      "outputs": [
        {
          "output_type": "stream",
          "name": "stdout",
          "text": [
            "tcmalloc: large alloc 1249902592 bytes == 0x55eee1df2000 @  0x7fea7c3eab6b 0x7fea7c40a379 0x7fe964cf6cde 0x7fe964cf8452 0x7fe9b776a749 0x7fea60593d59 0x55eed80e2045 0x55eed80a2c52 0x55eed8115c25 0x55eed8110ced 0x55eed80a37f3 0x55eed80a32f9 0x55eed81ea35d 0x55eed8159a0b 0x55eed80a23a1 0x55eed8193e1d 0x55eed8115e99 0x55eed8110ced 0x55eed7fe2e2b 0x55eed8112fe4 0x55eed81109ee 0x55eed80a3bda 0x55eed8115d00 0x55eed81109ee 0x55eed81106f3 0x55eed81da4c2 0x55eed81da83d 0x55eed81da6e6 0x55eed81b2163 0x55eed81b1e0c 0x7fea7b1f2bf7\n",
            "tcmalloc: large alloc 1249902592 bytes == 0x55ef4d90a000 @  0x7fea7c3eab6b 0x7fea7c40a379 0x7fe964cf6cde 0x7fe964cf8452 0x7fe9b776a749 0x7fea60593d59 0x55eed80e2045 0x55eed80a2c52 0x55eed8115c25 0x55eed8110ced 0x55eed80a37f3 0x55eed80a32f9 0x55eed81ea35d 0x55eed8159a0b 0x55eed80a23a1 0x55eed8193e1d 0x55eed8115e99 0x55eed8110ced 0x55eed7fe2e2b 0x55eed8112fe4 0x55eed81109ee 0x55eed80a3bda 0x55eed8115d00 0x55eed81109ee 0x55eed81106f3 0x55eed81da4c2 0x55eed81da83d 0x55eed81da6e6 0x55eed81b2163 0x55eed81b1e0c 0x7fea7b1f2bf7\n",
            "ckpt:  /content/BlendGAN/pretrained_models/blendgan.pt\n",
            "truncation:  0.75\n",
            "### generate mean_latent with 'g_ema.mean_latent'\n",
            "100% 5/5 [00:02<00:00,  2.41it/s]\n",
            "Done!\n",
            "000000.jpg\n",
            "000001.jpg\n",
            "000002.jpg\n",
            "000003.jpg\n",
            "000004.jpg\n"
          ]
        },
        {
          "output_type": "display_data",
          "data": {
            "application/javascript": [
              "\n",
              "    async function download(id, filename, size) {\n",
              "      if (!google.colab.kernel.accessAllowed) {\n",
              "        return;\n",
              "      }\n",
              "      const div = document.createElement('div');\n",
              "      const label = document.createElement('label');\n",
              "      label.textContent = `Downloading \"${filename}\": `;\n",
              "      div.appendChild(label);\n",
              "      const progress = document.createElement('progress');\n",
              "      progress.max = size;\n",
              "      div.appendChild(progress);\n",
              "      document.body.appendChild(div);\n",
              "\n",
              "      const buffers = [];\n",
              "      let downloaded = 0;\n",
              "\n",
              "      const channel = await google.colab.kernel.comms.open(id);\n",
              "      // Send a message to notify the kernel that we're ready.\n",
              "      channel.send({})\n",
              "\n",
              "      for await (const message of channel.messages) {\n",
              "        // Send a message to notify the kernel that we're ready.\n",
              "        channel.send({})\n",
              "        if (message.buffers) {\n",
              "          for (const buffer of message.buffers) {\n",
              "            buffers.push(buffer);\n",
              "            downloaded += buffer.byteLength;\n",
              "            progress.value = downloaded;\n",
              "          }\n",
              "        }\n",
              "      }\n",
              "      const blob = new Blob(buffers, {type: 'application/binary'});\n",
              "      const a = document.createElement('a');\n",
              "      a.href = window.URL.createObjectURL(blob);\n",
              "      a.download = filename;\n",
              "      div.appendChild(a);\n",
              "      a.click();\n",
              "      div.remove();\n",
              "    }\n",
              "  "
            ],
            "text/plain": [
              "<IPython.core.display.Javascript object>"
            ]
          },
          "metadata": {}
        },
        {
          "output_type": "display_data",
          "data": {
            "application/javascript": [
              "download(\"download_48662ebc-86de-48ea-841d-6416311c7b9c\", \"referenceGuided.tar.gz\", 2281012)"
            ],
            "text/plain": [
              "<IPython.core.display.Javascript object>"
            ]
          },
          "metadata": {}
        }
      ]
    },
    {
      "cell_type": "markdown",
      "metadata": {
        "id": "_Rsh1rO6uWHb"
      },
      "source": [
        "# Style tranfer with given face images"
      ]
    },
    {
      "cell_type": "code",
      "metadata": {
        "colab": {
          "base_uri": "https://localhost:8080/",
          "height": 1000
        },
        "id": "kvHxPPlQK7Wa",
        "outputId": "4bb4f7ec-457d-4a91-ab99-8cbd17ab5fc2"
      },
      "source": [
        "pathStyleImgs = '/content/BlendGAN/test_imgs/style_imgs/'\n",
        "pathInputImgs = '/content/BlendGAN/test_imgs/face_imgs/'\n",
        "pathOutputStyleTransfer = '/content/BlendGAN/results/style_transfer/'\n",
        "\n",
        "os.chdir(pathBG)\n",
        "!python style_transfer_folder.py --size 1024 --ckpt $cpBlendGAN --psp_encoder_ckpt $cpPSP --style_img_path $pathStyleImgs --input_img_path $pathInputImgs --outdir $pathOutputStyleTransfer\n",
        "\n",
        "os.chdir(pathOutputStyleTransfer)\n",
        "tarOutST = os.path.join(pathBG, 'styleTransfer.tar.gz')\n",
        "!tar -czvf $tarOutST *\n",
        "files.download(tarOutST)"
      ],
      "execution_count": 10,
      "outputs": [
        {
          "output_type": "stream",
          "name": "stdout",
          "text": [
            "tcmalloc: large alloc 1249902592 bytes == 0x55f2c4f82000 @  0x7ff2c5201b6b 0x7ff2c5221379 0x7ff1adb0dcde 0x7ff1adb0f452 0x7ff200581749 0x7ff2a93aad59 0x55f2bac4f045 0x55f2bac0fc52 0x55f2bac82c25 0x55f2bac7dced 0x55f2bac107f3 0x55f2bac102f9 0x55f2bad5735d 0x55f2bacc6a0b 0x55f2bac0f3a1 0x55f2bad00e1d 0x55f2bac82e99 0x55f2bac7dced 0x55f2bab4fe2b 0x55f2bac7ffe4 0x55f2bac7d9ee 0x55f2bac10bda 0x55f2bac82d00 0x55f2bac7d9ee 0x55f2bac7d6f3 0x55f2bad474c2 0x55f2bad4783d 0x55f2bad476e6 0x55f2bad1f163 0x55f2bad1ee0c 0x7ff2c4009bf7\n",
            "tcmalloc: large alloc 1249902592 bytes == 0x55f330a9a000 @  0x7ff2c5201b6b 0x7ff2c5221379 0x7ff1adb0dcde 0x7ff1adb0f452 0x7ff200581749 0x7ff2a93aad59 0x55f2bac4f045 0x55f2bac0fc52 0x55f2bac82c25 0x55f2bac7dced 0x55f2bac107f3 0x55f2bac102f9 0x55f2bad5735d 0x55f2bacc6a0b 0x55f2bac0f3a1 0x55f2bad00e1d 0x55f2bac82e99 0x55f2bac7dced 0x55f2bab4fe2b 0x55f2bac7ffe4 0x55f2bac7d9ee 0x55f2bac10bda 0x55f2bac82d00 0x55f2bac7d9ee 0x55f2bac7d6f3 0x55f2bad474c2 0x55f2bad4783d 0x55f2bad476e6 0x55f2bad1f163 0x55f2bad1ee0c 0x7ff2c4009bf7\n",
            "ckpt:  /content/BlendGAN/pretrained_models/blendgan.pt\n",
            "Loading psp encoders weights from irse50!\n",
            "0\n",
            "1\n",
            "2\n",
            "3\n",
            "4\n",
            "5\n",
            "6\n",
            "7\n",
            "Done!\n",
            "000000_v_100000.jpg\n",
            "000000_v_100001.jpg\n",
            "000000_v_100002.jpg\n",
            "000000_v_100003.jpg\n",
            "000000_v_100004.jpg\n",
            "000000_v_100005.jpg\n",
            "000000_v_100009.jpg\n",
            "000000_v_100010.jpg\n",
            "000000_v_100012.jpg\n",
            "000000_v_100013.jpg\n",
            "000000_v_100014.jpg\n",
            "000000_v_100015.jpg\n",
            "000000_v_100016.jpg\n",
            "000000_v_100017.jpg\n",
            "000000_v_100018.jpg\n",
            "000000_v_100019.jpg\n",
            "000000_v_100020.jpg\n",
            "000000_v_100022.jpg\n",
            "000000_v_100024.jpg\n",
            "000000_v_100026.jpg\n",
            "000000_v_100027.jpg\n",
            "000000_v_100028.jpg\n",
            "000000_v_100029.jpg\n",
            "000000_v_100030.jpg\n",
            "000000_v_100031.jpg\n",
            "000000_v_100032.jpg\n",
            "000000_v_100033.jpg\n",
            "000000_v_100034.jpg\n",
            "000000_v_100035.jpg\n",
            "000000_v_100036.jpg\n",
            "000001_v_100000.jpg\n",
            "000001_v_100001.jpg\n",
            "000001_v_100002.jpg\n",
            "000001_v_100003.jpg\n",
            "000001_v_100004.jpg\n",
            "000001_v_100005.jpg\n",
            "000001_v_100009.jpg\n",
            "000001_v_100010.jpg\n",
            "000001_v_100012.jpg\n",
            "000001_v_100013.jpg\n",
            "000001_v_100014.jpg\n",
            "000001_v_100015.jpg\n",
            "000001_v_100016.jpg\n",
            "000001_v_100017.jpg\n",
            "000001_v_100018.jpg\n",
            "000001_v_100019.jpg\n",
            "000001_v_100020.jpg\n",
            "000001_v_100022.jpg\n",
            "000001_v_100024.jpg\n",
            "000001_v_100026.jpg\n",
            "000001_v_100027.jpg\n",
            "000001_v_100028.jpg\n",
            "000001_v_100029.jpg\n",
            "000001_v_100030.jpg\n",
            "000001_v_100031.jpg\n",
            "000001_v_100032.jpg\n",
            "000001_v_100033.jpg\n",
            "000001_v_100034.jpg\n",
            "000001_v_100035.jpg\n",
            "000001_v_100036.jpg\n",
            "000015_v_100000.jpg\n",
            "000015_v_100001.jpg\n",
            "000015_v_100002.jpg\n",
            "000015_v_100003.jpg\n",
            "000015_v_100004.jpg\n",
            "000015_v_100005.jpg\n",
            "000015_v_100009.jpg\n",
            "000015_v_100010.jpg\n",
            "000015_v_100012.jpg\n",
            "000015_v_100013.jpg\n",
            "000015_v_100014.jpg\n",
            "000015_v_100015.jpg\n",
            "000015_v_100016.jpg\n",
            "000015_v_100017.jpg\n",
            "000015_v_100018.jpg\n",
            "000015_v_100019.jpg\n",
            "000015_v_100020.jpg\n",
            "000015_v_100022.jpg\n",
            "000015_v_100024.jpg\n",
            "000015_v_100026.jpg\n",
            "000015_v_100027.jpg\n",
            "000015_v_100028.jpg\n",
            "000015_v_100029.jpg\n",
            "000015_v_100030.jpg\n",
            "000015_v_100031.jpg\n",
            "000015_v_100032.jpg\n",
            "000015_v_100033.jpg\n",
            "000015_v_100034.jpg\n",
            "000015_v_100035.jpg\n",
            "000015_v_100036.jpg\n",
            "000021_v_100000.jpg\n",
            "000021_v_100001.jpg\n",
            "000021_v_100002.jpg\n",
            "000021_v_100003.jpg\n",
            "000021_v_100004.jpg\n",
            "000021_v_100005.jpg\n",
            "000021_v_100009.jpg\n",
            "000021_v_100010.jpg\n",
            "000021_v_100012.jpg\n",
            "000021_v_100013.jpg\n",
            "000021_v_100014.jpg\n",
            "000021_v_100015.jpg\n",
            "000021_v_100016.jpg\n",
            "000021_v_100017.jpg\n",
            "000021_v_100018.jpg\n",
            "000021_v_100019.jpg\n",
            "000021_v_100020.jpg\n",
            "000021_v_100022.jpg\n",
            "000021_v_100024.jpg\n",
            "000021_v_100026.jpg\n",
            "000021_v_100027.jpg\n",
            "000021_v_100028.jpg\n",
            "000021_v_100029.jpg\n",
            "000021_v_100030.jpg\n",
            "000021_v_100031.jpg\n",
            "000021_v_100032.jpg\n",
            "000021_v_100033.jpg\n",
            "000021_v_100034.jpg\n",
            "000021_v_100035.jpg\n",
            "000021_v_100036.jpg\n",
            "000026_v_100000.jpg\n",
            "000026_v_100001.jpg\n",
            "000026_v_100002.jpg\n",
            "000026_v_100003.jpg\n",
            "000026_v_100004.jpg\n",
            "000026_v_100005.jpg\n",
            "000026_v_100009.jpg\n",
            "000026_v_100010.jpg\n",
            "000026_v_100012.jpg\n",
            "000026_v_100013.jpg\n",
            "000026_v_100014.jpg\n",
            "000026_v_100015.jpg\n",
            "000026_v_100016.jpg\n",
            "000026_v_100017.jpg\n",
            "000026_v_100018.jpg\n",
            "000026_v_100019.jpg\n",
            "000026_v_100020.jpg\n",
            "000026_v_100022.jpg\n",
            "000026_v_100024.jpg\n",
            "000026_v_100026.jpg\n",
            "000026_v_100027.jpg\n",
            "000026_v_100028.jpg\n",
            "000026_v_100029.jpg\n",
            "000026_v_100030.jpg\n",
            "000026_v_100031.jpg\n",
            "000026_v_100032.jpg\n",
            "000026_v_100033.jpg\n",
            "000026_v_100034.jpg\n",
            "000026_v_100035.jpg\n",
            "000026_v_100036.jpg\n",
            "000027_v_100000.jpg\n",
            "000027_v_100001.jpg\n",
            "000027_v_100002.jpg\n",
            "000027_v_100003.jpg\n",
            "000027_v_100004.jpg\n",
            "000027_v_100005.jpg\n",
            "000027_v_100009.jpg\n",
            "000027_v_100010.jpg\n",
            "000027_v_100012.jpg\n",
            "000027_v_100013.jpg\n",
            "000027_v_100014.jpg\n",
            "000027_v_100015.jpg\n",
            "000027_v_100016.jpg\n",
            "000027_v_100017.jpg\n",
            "000027_v_100018.jpg\n",
            "000027_v_100019.jpg\n",
            "000027_v_100020.jpg\n",
            "000027_v_100022.jpg\n",
            "000027_v_100024.jpg\n",
            "000027_v_100026.jpg\n",
            "000027_v_100027.jpg\n",
            "000027_v_100028.jpg\n",
            "000027_v_100029.jpg\n",
            "000027_v_100030.jpg\n",
            "000027_v_100031.jpg\n",
            "000027_v_100032.jpg\n",
            "000027_v_100033.jpg\n",
            "000027_v_100034.jpg\n",
            "000027_v_100035.jpg\n",
            "000027_v_100036.jpg\n",
            "000041_v_100000.jpg\n",
            "000041_v_100001.jpg\n",
            "000041_v_100002.jpg\n",
            "000041_v_100003.jpg\n",
            "000041_v_100004.jpg\n",
            "000041_v_100005.jpg\n",
            "000041_v_100009.jpg\n",
            "000041_v_100010.jpg\n",
            "000041_v_100012.jpg\n",
            "000041_v_100013.jpg\n",
            "000041_v_100014.jpg\n",
            "000041_v_100015.jpg\n",
            "000041_v_100016.jpg\n",
            "000041_v_100017.jpg\n",
            "000041_v_100018.jpg\n",
            "000041_v_100019.jpg\n",
            "000041_v_100020.jpg\n",
            "000041_v_100022.jpg\n",
            "000041_v_100024.jpg\n",
            "000041_v_100026.jpg\n",
            "000041_v_100027.jpg\n",
            "000041_v_100028.jpg\n",
            "000041_v_100029.jpg\n",
            "000041_v_100030.jpg\n",
            "000041_v_100031.jpg\n",
            "000041_v_100032.jpg\n",
            "000041_v_100033.jpg\n",
            "000041_v_100034.jpg\n",
            "000041_v_100035.jpg\n",
            "000041_v_100036.jpg\n",
            "000067_v_100000.jpg\n",
            "000067_v_100001.jpg\n",
            "000067_v_100002.jpg\n",
            "000067_v_100003.jpg\n",
            "000067_v_100004.jpg\n",
            "000067_v_100005.jpg\n",
            "000067_v_100009.jpg\n",
            "000067_v_100010.jpg\n",
            "000067_v_100012.jpg\n",
            "000067_v_100013.jpg\n",
            "000067_v_100014.jpg\n",
            "000067_v_100015.jpg\n",
            "000067_v_100016.jpg\n",
            "000067_v_100017.jpg\n",
            "000067_v_100018.jpg\n",
            "000067_v_100019.jpg\n",
            "000067_v_100020.jpg\n",
            "000067_v_100022.jpg\n",
            "000067_v_100024.jpg\n",
            "000067_v_100026.jpg\n",
            "000067_v_100027.jpg\n",
            "000067_v_100028.jpg\n",
            "000067_v_100029.jpg\n",
            "000067_v_100030.jpg\n",
            "000067_v_100031.jpg\n",
            "000067_v_100032.jpg\n",
            "000067_v_100033.jpg\n",
            "000067_v_100034.jpg\n",
            "000067_v_100035.jpg\n",
            "000067_v_100036.jpg\n"
          ]
        },
        {
          "output_type": "display_data",
          "data": {
            "application/javascript": [
              "\n",
              "    async function download(id, filename, size) {\n",
              "      if (!google.colab.kernel.accessAllowed) {\n",
              "        return;\n",
              "      }\n",
              "      const div = document.createElement('div');\n",
              "      const label = document.createElement('label');\n",
              "      label.textContent = `Downloading \"${filename}\": `;\n",
              "      div.appendChild(label);\n",
              "      const progress = document.createElement('progress');\n",
              "      progress.max = size;\n",
              "      div.appendChild(progress);\n",
              "      document.body.appendChild(div);\n",
              "\n",
              "      const buffers = [];\n",
              "      let downloaded = 0;\n",
              "\n",
              "      const channel = await google.colab.kernel.comms.open(id);\n",
              "      // Send a message to notify the kernel that we're ready.\n",
              "      channel.send({})\n",
              "\n",
              "      for await (const message of channel.messages) {\n",
              "        // Send a message to notify the kernel that we're ready.\n",
              "        channel.send({})\n",
              "        if (message.buffers) {\n",
              "          for (const buffer of message.buffers) {\n",
              "            buffers.push(buffer);\n",
              "            downloaded += buffer.byteLength;\n",
              "            progress.value = downloaded;\n",
              "          }\n",
              "        }\n",
              "      }\n",
              "      const blob = new Blob(buffers, {type: 'application/binary'});\n",
              "      const a = document.createElement('a');\n",
              "      a.href = window.URL.createObjectURL(blob);\n",
              "      a.download = filename;\n",
              "      div.appendChild(a);\n",
              "      a.click();\n",
              "      div.remove();\n",
              "    }\n",
              "  "
            ],
            "text/plain": [
              "<IPython.core.display.Javascript object>"
            ]
          },
          "metadata": {}
        },
        {
          "output_type": "display_data",
          "data": {
            "application/javascript": [
              "download(\"download_a0cbcd78-4cc0-4c8d-bbef-9c061125fc3a\", \"styleTransfer.tar.gz\", 189197749)"
            ],
            "text/plain": [
              "<IPython.core.display.Javascript object>"
            ]
          },
          "metadata": {}
        }
      ]
    },
    {
      "cell_type": "markdown",
      "metadata": {
        "id": "C0PBQ6AW31w0"
      },
      "source": [
        "# ~Generate interpolation videos~\n",
        "#### Crashes when writing video in colab and during local testing (RAM overflow)\n",
        "\n",
        "*uncomment next cell to try*"
      ]
    },
    {
      "cell_type": "code",
      "metadata": {
        "id": "Pn4rH-7zK-54"
      },
      "source": [
        "#os.chdir(pathBG)\n",
        "#!python gen_video.py --size 1024 --ckpt $cpBlendGAN --psp_encoder_ckpt $cpPSP --style_img_path ./test_imgs/style_imgs/ --input_img_path ./test_imgs/face_imgs/ --outdir results/inter_videos/"
      ],
      "execution_count": null,
      "outputs": []
    }
  ]
}