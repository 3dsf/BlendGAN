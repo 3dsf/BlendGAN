{
  "nbformat": 4,
  "nbformat_minor": 0,
  "metadata": {
    "colab": {
      "name": "Copy of BlendGAN.3dsf.ipynb",
      "provenance": [],
      "collapsed_sections": [],
      "toc_visible": true,
      "authorship_tag": "ABX9TyPk8wL5qdzswOEIpxPiuUIo",
      "include_colab_link": true
    },
    "kernelspec": {
      "name": "python3",
      "display_name": "Python 3"
    },
    "language_info": {
      "name": "python"
    },
    "accelerator": "GPU"
  },
  "cells": [
    {
      "cell_type": "markdown",
      "metadata": {
        "id": "view-in-github",
        "colab_type": "text"
      },
      "source": [
        "<a href=\"https://colab.research.google.com/github/3dsf/BlendGAN/blob/main/BlendGAN_3dsf.ipynb\" target=\"_parent\"><img src=\"https://colab.research.google.com/assets/colab-badge.svg\" alt=\"Open In Colab\"/></a>"
      ]
    },
    {
      "cell_type": "markdown",
      "metadata": {
        "id": "xmX1cySyryqx"
      },
      "source": [
        "#BlendGAN \n",
        "Runs examples from \n",
        "https://github.com/onion-liu/BlendGAN\n",
        "\n",
        "*colab notebook adaptation by u/3dsf*\n",
        "\n",
        "## Use GPU Runtime"
      ]
    },
    {
      "cell_type": "code",
      "metadata": {
        "id": "E_aLR2br75Gr"
      },
      "source": [
        "try :\n",
        "  import torch\n",
        "  torch.cuda.is_available()\n",
        "  print('CUDA and TORCH found')",
        "  #not sure if next line might trigger a usage limit sooner...\n",
        "  #print('CUDA device: ',torch.cuda.get_device_name(0))\n",
        "except :\n",
        "  print(\"\\n\\n\\nPlease enable GPU runtime\\n\\n\\n\")\n",
        "  #add in stop colab exectution..."
      ],
      "execution_count": null,
      "outputs": []
    },
    {
      "cell_type": "markdown",
      "metadata": {
        "id": "0MAhdJcnryIB"
      },
      "source": [
        "## Install & Setup"
      ]
    },
    {
      "cell_type": "code",
      "metadata": {
        "id": "rgIbNeFJIU4n"
      },
      "source": [
        "!git clone https://github.com/onion-liu/BlendGAN.git\n",
        "!pip install gdown ninja\n",
        "\n",
        "import os\n",
        "from google.colab import files\n",
        "pathBG = '/content/BlendGAN/'"
      ],
      "execution_count": null,
      "outputs": []
    },
    {
      "cell_type": "code",
      "metadata": {
        "id": "7M2uZEjbIs0I"
      },
      "source": [
        "cpBlendGAN = os.path.join(pathBG, 'pretrained_models/blendgan.pt')\n",
        "cpPSP      = os.path.join(pathBG, 'pretrained_models/psp_encoder.pt')\n",
        "cpStyle    = os.path.join(pathBG, 'pretrained_models/style_encoder.pt')\n",
        "\n",
        "if os.path.exists(cpBlendGAN) == False :\n",
        "  !gdown --id 1eF04jKMLAb9DvzI72m8Akn5ykWf3EafE -O $cpBlendGAN\n",
        "if os.path.exists(cpPSP) == False : \n",
        "  !gdown --id 14nevG94hNkkwaoK5eJLF1iv78cv5O8fN -O $cpPSP\n",
        "if os.path.exists(cpStyle) == False :\n",
        "  !gdown --id 1EaM0ZYsAMdPkbRz0smLNIlJ1rxVAhbEz -O $cpStyle"
      ],
      "execution_count": null,
      "outputs": []
    },
    {
      "cell_type": "markdown",
      "metadata": {
        "id": "Xbt0-N5GKzpm"
      },
      "source": [
        "# Generate image pairs with random face codes\n",
        "* First run will download vgg19 and will take longer\n",
        "\n"
      ]
    },
    {
      "cell_type": "markdown",
      "metadata": {
        "id": "1L05sIf1t1Ui"
      },
      "source": [
        "## latent-guided generation\n",
        "* *uses ./test_imgs/face_imgs and ./test_imgs/style_imgs (coded into generate_image_pairs.py)*"
      ]
    },
    {
      "cell_type": "code",
      "metadata": {
        "id": "m12i0hBAKtWw"
      },
      "source": [
        "N_PICS = 8\n",
        "\n",
        "###\n",
        "\n",
        "os.chdir(pathBG)\n",
        "pathOutputLatentGuided = os.path.join(pathBG, 'results/generated_pairs/latent_guided/')\n",
        "!python generate_image_pairs.py --size 1024 --pics $N_PICS --ckpt $cpBlendGAN --outdir $pathOutputLatentGuided\n",
        "\n",
        "os.chdir(pathOutputLatentGuided)\n",
        "tarOutLG = os.path.join(pathBG, 'latentGuided.tar.gz')\n",
        "!tar -czvf $tarOutLG *\n",
        "files.download(tarOutLG)\n",
        "\n"
      ],
      "execution_count": null,
      "outputs": []
    },
    {
      "cell_type": "markdown",
      "metadata": {
        "id": "1RrFcfaUrjGx"
      },
      "source": [
        "## reference-guided generation\n",
        "\n",
        "* *uses ./test_imgs/face_imgs  (coded into generate_image_pairs.py)*"
      ]
    },
    {
      "cell_type": "code",
      "metadata": {
        "id": "zlfvKX4-UkpR"
      },
      "source": [
        "N_PICS = 8\n",
        "refStyleImage = os.path.join(pathBG, 'test_imgs/style_imgs/100036.png')\n",
        "\n",
        "###\n",
        "\n",
        "os.chdir(pathBG)\n",
        "pathOutputReferenceGuided = os.path.join(pathBG, '/results/generated_pairs/reference_guided/')\n",
        "!python generate_image_pairs.py --size 1024 --pics $N_PICS --ckpt $cpBlendGAN --style_img $refStyleImage --outdir $pathOutputReferenceGuided\n",
        "\n",
        "os.chdir(pathOutputReferenceGuided)\n",
        "tarOutRG = os.path.join(pathBG, 'referenceGuided.tar.gz')\n",
        "!tar -czvf $tarOutRG *\n",
        "files.download(tarOutRG)\n",
        "\n"
      ],
      "execution_count": null,
      "outputs": []
    },
    {
      "cell_type": "markdown",
      "metadata": {
        "id": "_Rsh1rO6uWHb"
      },
      "source": [
        "# Style tranfer with given face images"
      ]
    },
    {
      "cell_type": "code",
      "metadata": {
        "id": "kvHxPPlQK7Wa"
      },
      "source": [
        "pathStyleImgs = '/content/BlendGAN/test_imgs/style_imgs/'\n",
        "pathInputImgs = '/content/BlendGAN/test_imgs/face_imgs/'\n",
        "pathOutputStyleTransfer = '/content/BlendGAN/results/style_transfer/'\n",
        "\n",
        "os.chdir(pathBG)\n",
        "!python style_transfer_folder.py --size 1024 --ckpt $cpBlendGAN --psp_encoder_ckpt $cpPSP --style_img_path $pathStyleImgs --input_img_path $pathInputImgs --outdir $pathOutputStyleTransfer\n",
        "\n",
        "os.chdir(pathOutputStyleTransfer)\n",
        "tarOutST = os.path.join(pathBG, 'styleTransfer.tar.gz')\n",
        "!tar -czvf $tarOutST *\n",
        "files.download(tarOutST)"
      ],
      "execution_count": null,
      "outputs": []
    },
    {
      "cell_type": "markdown",
      "metadata": {
        "id": "C0PBQ6AW31w0"
      },
      "source": [
        "# ~Generate interpolation videos~\n",
        "#### Crashes when writing video in colab and during local testing (RAM overflow)\n",
        "\n",
        "*uncomment next cell to try*"
      ]
    },
    {
      "cell_type": "code",
      "metadata": {
        "id": "Pn4rH-7zK-54"
      },
      "source": [
        "#os.chdir(pathBG)\n",
        "#!python gen_video.py --size 1024 --ckpt $cpBlendGAN --psp_encoder_ckpt $cpPSP --style_img_path ./test_imgs/style_imgs/ --input_img_path ./test_imgs/face_imgs/ --outdir results/inter_videos/"
      ],
      "execution_count": null,
      "outputs": []
    }
  ]
}
